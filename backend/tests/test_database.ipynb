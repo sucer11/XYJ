{
 "cells": [
  {
   "cell_type": "code",
   "execution_count": 1,
   "metadata": {},
   "outputs": [],
   "source": [
    "import sys\n",
    "sys.path.append('..')\n",
    "from utils.database import PSQLDatabase\n",
    "\n",
    "user= 'postgres'\n",
    "password = '123'\n",
    "database = 'contents'\n",
    "\n",
    "db = PSQLDatabase(user, password, database)\n"
   ]
  },
  {
   "cell_type": "code",
   "execution_count": 2,
   "metadata": {},
   "outputs": [
    {
     "data": {
      "text/plain": [
       "[(123, {'msg': 'i am a json'}, 'test', 'test')]"
      ]
     },
     "execution_count": 2,
     "metadata": {},
     "output_type": "execute_result"
    }
   ],
   "source": [
    "\n",
    "db.insert((123,{\"msg\":\"i am a json\"},'test','test'))\n",
    "db.query(\"SELECT * FROM emails WHERE uid=123;\")\n"
   ]
  },
  {
   "cell_type": "code",
   "execution_count": 3,
   "metadata": {},
   "outputs": [
    {
     "data": {
      "text/plain": [
       "[]"
      ]
     },
     "execution_count": 3,
     "metadata": {},
     "output_type": "execute_result"
    }
   ],
   "source": [
    "db.remove(123)\n",
    "db.query(\"SELECT * FROM emails WHERE uid=123;\")\n"
   ]
  },
  {
   "cell_type": "code",
   "execution_count": 4,
   "metadata": {},
   "outputs": [
    {
     "data": {
      "text/plain": [
       "3102"
      ]
     },
     "execution_count": 4,
     "metadata": {},
     "output_type": "execute_result"
    }
   ],
   "source": [
    "len(db.query(\"SELECT * FROM emails;\")[3][1]['Content'])"
   ]
  },
  {
   "cell_type": "code",
   "execution_count": 5,
   "metadata": {},
   "outputs": [
    {
     "data": {
      "text/plain": [
       "[1730407045,\n",
       " 1730407046,\n",
       " 1730407048,\n",
       " 1730407050,\n",
       " 1730407052,\n",
       " 1730407126,\n",
       " 1730407055,\n",
       " 1730407064,\n",
       " 1730407074,\n",
       " 1730407080,\n",
       " 1730407081,\n",
       " 1730407089,\n",
       " 1730407090,\n",
       " 1663169051,\n",
       " 1663169052,\n",
       " 1730407098,\n",
       " 1730407108,\n",
       " 1730407111,\n",
       " 1730407123,\n",
       " 1730407124,\n",
       " 1730407125,\n",
       " 1730407127,\n",
       " 1730407128,\n",
       " 1730407129,\n",
       " 1730407130,\n",
       " 1730407134,\n",
       " 1730407135,\n",
       " 1730407136,\n",
       " 1730407137,\n",
       " 1730407138,\n",
       " 1730407139,\n",
       " 1730407146,\n",
       " 1730407140,\n",
       " 1730407142,\n",
       " 1730407143,\n",
       " 1730407144,\n",
       " 1730407145,\n",
       " 1730407148,\n",
       " 1730407150,\n",
       " 1730407151,\n",
       " 1730407152,\n",
       " 1730407153,\n",
       " 1730407154,\n",
       " 1730407155,\n",
       " 1730407156,\n",
       " 1730407157,\n",
       " 1730407158,\n",
       " 1730407159,\n",
       " 1730407160,\n",
       " 1663169056,\n",
       " 1663169057,\n",
       " 1663169058,\n",
       " 1663169059,\n",
       " 1663169060,\n",
       " 1663169061,\n",
       " 1663169062,\n",
       " 1663169050,\n",
       " 1663169053,\n",
       " 1663169054,\n",
       " 1663169055]"
      ]
     },
     "execution_count": 5,
     "metadata": {},
     "output_type": "execute_result"
    }
   ],
   "source": [
    "db.get_uid_list()"
   ]
  },
  {
   "cell_type": "code",
   "execution_count": null,
   "metadata": {},
   "outputs": [],
   "source": []
  }
 ],
 "metadata": {
  "kernelspec": {
   "display_name": "base",
   "language": "python",
   "name": "python3"
  },
  "language_info": {
   "codemirror_mode": {
    "name": "ipython",
    "version": 3
   },
   "file_extension": ".py",
   "mimetype": "text/x-python",
   "name": "python",
   "nbconvert_exporter": "python",
   "pygments_lexer": "ipython3",
   "version": "3.11.5"
  }
 },
 "nbformat": 4,
 "nbformat_minor": 2
}
