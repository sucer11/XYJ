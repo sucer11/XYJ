{
 "cells": [
  {
   "cell_type": "code",
   "execution_count": 1,
   "metadata": {},
   "outputs": [],
   "source": [
    "import sys\n",
    "sys.path.append(\"..\")\n",
    "\n",
    "from utils.email_interface import EmailInterface\n",
    "username = \"quoilam@163.com\";\n",
    "authCode = \"SXDmuWnphCXGUURV\";\n",
    "\n",
    "email = EmailInterface(username,authCode)"
   ]
  },
  {
   "cell_type": "code",
   "execution_count": 2,
   "metadata": {},
   "outputs": [
    {
     "data": {
      "text/plain": [
       "[1730407045, 1730407046, 1730407048, 1730407050, 1730407052]"
      ]
     },
     "execution_count": 2,
     "metadata": {},
     "output_type": "execute_result"
    }
   ],
   "source": [
    "\n",
    "uids = email.get_uids()\n",
    "uids[:5]"
   ]
  },
  {
   "cell_type": "code",
   "execution_count": 3,
   "metadata": {},
   "outputs": [
    {
     "data": {
      "text/plain": [
       "{1730407045: {'Subject': '邮件办公，如此轻松！欢迎来到网易邮箱！',\n",
       "  'From': '网易邮箱助手, <club@service.netease.com>',\n",
       "  'Date': 'Fri, 1 Nov 2024 04:37:25 +0800 (CST)',\n",
       "  'Content': ' 欢迎来到网易邮箱 不想被邮件占据太多时间？网易邮箱大师让您真正回归高效生活。 来看看我们能为您做点儿什么？ 随时随地 多端协同 随时随地，全平台使用 支持iOS、安卓、mac、win四大平台，是目前市面上唯一支持全平台的邮箱客户端。 一端更改，多端同步 登录大师号即可在任意设备上同步您的邮件，无缝连接重要信息。 不同账号，同时管理 支持使用网易、QQ、Gmail、Outlook 等主流个人邮箱，不一样的账号，一样的轻松管理。 专业高效 轻松办公 邮件会话，一目了然 邮件又多又乱？不用担心，一键聚合同一主题、同一联系人的邮件，让您的收件箱干净整洁。 多国语言，一键翻译 采用网易有道多语言神经网络翻译技术，翻译准确度高且省时高效：1000字的英文邮件内容，不到1秒即能翻译完成。 扫一扫下载手机版 ― 网易邮箱团队 ― '},\n",
       " 1730407046: {'Subject': 'Fw: Transform your business with app consolidation\\xa0',\n",
       "  'From': '\"2274265784@qq.com\" <2274265784@qq.com>',\n",
       "  'Date': 'Fri, 01 Nov 2024 06:16:43 +0800',\n",
       "  'Content': 'quoilam quoilam@foxmail.com ---- Forwarded Message ---- From The Ionic Team<marketing@ionic.io> Date 11/01/2024 00:47 To 2274265784@qq.com Cc Subject Transform your business with app consolidation\\xa0 Discover how app consolidation can help your business and improve user experiences. App Consolidation: A Strategic Imperative \\xa0 “There’s an app for that.” Once a clever marketing slogan, the reality has become something of a nightmare scenario for users increasingly overwhelmed by the sheer number of applications on their devices. The situation is no less dire for businesses that depend on apps to engage with their customers.\\xa0 \\xa0 For enterprises aiming to thrive in today’s digital landscape, app consolidation is not just beneficial—it’s essential. Embracing this strategy enables businesses to: Deliver exceptional user experiences that foster loyalty and advocacy Accelerate time to market Stay on top of demand for updates and new features Reduce costs associated with app development and maintenance\\xa0 And more!\\xa0 \\xa0 Check out our recent log to learn how you can streamline your app strategy today. Read Blog Ready to get started? Ionic’s Superapp SDK is an all-in-one solution for large organizations who want to develop a unified brand experience - for the workplace, customers, and more. Consolidate apps into a single mobile experience and scale your development strategy today. Request a Demo Keep up to date with Ionic: Ionic: An OutSystems Company, 44 Farnsworth St, 9th floor, Boston, MA 02210 Unsubscribe Manage preferences quoilam quoilam@foxmail.com ---- Forwarded Message ---- From The Ionic Teammarketing@ionic.io Date 11/01/2024 00:47 To 2274265784@qq.com Cc Subject Transform your business with app consolidation\\xa0 Transform your business with app consolidation 96 Discover how app consolidation can help your business and improve user experiences. App Consolidation: A Strategic Imperative“There’s an app for that.” Once a clever marketing slogan, the reality has become something of a nightmare scenario for users increasingly overwhelmed by the sheer number of applications on their devices. The situation is no less dire for businesses that depend on apps to engage with their customers.For enterprises aiming to thrive in today’s digital landscape, app consolidation is not just beneficial—it’s essential. Embracing this strategy enables businesses to:Deliver exceptional user experiences that foster loyalty and advocacyAccelerate time to marketStay on top of demand for updates and new featuresReduce costs associated with app development and maintenanceAnd more!Check out our recent log to learn how you can streamline your app strategy today. Read Blog Ready to get started?Ionic’s Superapp SDK is an all-in-one solution for large organizations who want to develop a unified brand experience - for the workplace, customers, and more. Consolidate apps into a single mobile experience and scale your development strategy today. Request a Demo Keep up to date with Ionic: Ionic: An OutSystems Company, 44 Farnsworth St, 9th floor, Boston, MA 02210 Unsubscribe Manage preferences '},\n",
       " 1730407048: {'Subject': 'ddfkfkfk',\n",
       "  'From': '刘思敏, <220120114@mail.dhu.edu.cn>',\n",
       "  'Date': 'Fri, 1 Nov 2024 06:17:43 +0800 (GMT+08:00)',\n",
       "  'Content': '丹江重开那就奥卡鸟记错爱肯拿看多了粉嫩卡佛连饭\\n\\n\\n 220120114@mail.dhu.edu.cn\\n 邮箱：220120114@mail.dhu.edu.cn\\n  \\n\\n\\r\\n\\r\\n丹江重开那就奥卡鸟记错爱肯拿看多了粉嫩卡佛连饭 220120114@mail.dhu.edu.cn 邮箱：220120114@mail.dhu.edu.cn '}}"
      ]
     },
     "execution_count": 3,
     "metadata": {},
     "output_type": "execute_result"
    }
   ],
   "source": [
    "\n",
    "email.get_email_by_uids(uids[:3])"
   ]
  },
  {
   "cell_type": "code",
   "execution_count": 9,
   "metadata": {},
   "outputs": [
    {
     "data": {
      "text/plain": [
       "[]"
      ]
     },
     "execution_count": 9,
     "metadata": {},
     "output_type": "execute_result"
    }
   ],
   "source": [
    "unseens = email.get_unseen_uids()\n",
    "unseens    \n",
    "    # def set_email_seen(self,uids:List[int]):\n",
    "    #     with self.__Email() as mail:\n",
    "    #         mail.set_flags(uids, [b'\\\\Seen'])"
   ]
  },
  {
   "cell_type": "code",
   "execution_count": 8,
   "metadata": {},
   "outputs": [
    {
     "data": {
      "text/plain": [
       "[]"
      ]
     },
     "execution_count": 8,
     "metadata": {},
     "output_type": "execute_result"
    }
   ],
   "source": [
    "email.set_email_seen(unseens)\n",
    "email.get_unseen_uids()\n"
   ]
  }
 ],
 "metadata": {
  "kernelspec": {
   "display_name": "base",
   "language": "python",
   "name": "python3"
  },
  "language_info": {
   "codemirror_mode": {
    "name": "ipython",
    "version": 3
   },
   "file_extension": ".py",
   "mimetype": "text/x-python",
   "name": "python",
   "nbconvert_exporter": "python",
   "pygments_lexer": "ipython3",
   "version": "3.11.5"
  }
 },
 "nbformat": 4,
 "nbformat_minor": 2
}
