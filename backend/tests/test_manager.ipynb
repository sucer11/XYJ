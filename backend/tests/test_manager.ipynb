{
 "cells": [
  {
   "cell_type": "code",
   "execution_count": 1,
   "metadata": {},
   "outputs": [],
   "source": [
    "import sys\n",
    "\n",
    "sys.path.append('..')\n",
    "from utils.manager import Manager\n",
    "\n",
    "manager = Manager()\n",
    "\n",
    "# manager.build_all_emails(0)"
   ]
  },
  {
   "cell_type": "code",
   "execution_count": 2,
   "metadata": {},
   "outputs": [],
   "source": [
    "# manager.db.query('SELECT category,summary FROM emails')"
   ]
  },
  {
   "cell_type": "code",
   "execution_count": null,
   "metadata": {},
   "outputs": [
    {
     "name": "stdout",
     "output_type": "stream",
     "text": [
      "diff_uids: [1730407140, 1730407141, 1730407142]\n",
      "building content uid:1730407140 content:---- 转发的邮件 ----\n",
      "| 发件人 | 钟平<pzhong937@dhu.edu.cn> |\n",
      "summary:Samarium 转发了一封来自钟平的邮件，询问微机上机课程的具体时间安排，课程要求至少40个课时，并需完成20道试题和设计一个可视化计算器，实现基本运算功能，提交作业时间在课程结束前。课程推荐使用C、VC++ 6.0 或 Python 编程语言，时间安排从2024年1月4日晚开始的第十节课至1月8日晚结束。\n",
      "category:学习\n",
      "building content uid:1730407141 content: 220120114@mail.dhu.edu.cn\n",
      " 邮箱：220120114@mail.dhu.\n",
      "summary:学生刘思敏询问其选修的智能制造系统概论课程是否通过，并恳请老师尽快公布成绩以便进行专业转换和后续学业安排。\n",
      "category:学习\n",
      "building content uid:1730407142 content: 220120114@mail.dhu.edu.cn\n",
      " 邮箱：220120114@mail.dhu.\n",
      "summary:刘思敏请求尽快公布所修课程“智能制造系统概论”的成绩，以确保不影响其转专业及后续学业发展，课程成绩预计在9月10日左右公布。\n",
      "category:学习\n"
     ]
    },
    {
     "ename": "KeyboardInterrupt",
     "evalue": "",
     "output_type": "error",
     "traceback": [
      "\u001b[0;31m---------------------------------------------------------------------------\u001b[0m",
      "\u001b[0;31mKeyboardInterrupt\u001b[0m                         Traceback (most recent call last)",
      "Cell \u001b[0;32mIn[3], line 4\u001b[0m\n\u001b[1;32m      2\u001b[0m \u001b[38;5;28;01mwhile\u001b[39;00m \u001b[38;5;28;01mTrue\u001b[39;00m:\n\u001b[1;32m      3\u001b[0m     \u001b[38;5;28;01mtry\u001b[39;00m:\n\u001b[0;32m----> 4\u001b[0m         \u001b[43mmanager\u001b[49m\u001b[38;5;241;43m.\u001b[39;49m\u001b[43mbuild_diff\u001b[49m\u001b[43m(\u001b[49m\u001b[43m)\u001b[49m\n\u001b[1;32m      5\u001b[0m     \u001b[38;5;28;01mexcept\u001b[39;00m \u001b[38;5;167;01mInterruptedError\u001b[39;00m:\n\u001b[1;32m      6\u001b[0m         \u001b[38;5;28;01mbreak\u001b[39;00m\n",
      "File \u001b[0;32m~/Documents/se软件工程导论/backend/tests/../utils/manager.py:44\u001b[0m, in \u001b[0;36mManager.build_diff\u001b[0;34m(self)\u001b[0m\n\u001b[1;32m     42\u001b[0m diff_uids \u001b[38;5;241m=\u001b[39m \u001b[38;5;28mlist\u001b[39m(\u001b[38;5;28mset\u001b[39m(Manager\u001b[38;5;241m.\u001b[39memail_interface\u001b[38;5;241m.\u001b[39mget_uids()) \u001b[38;5;241m-\u001b[39m  \u001b[38;5;28mset\u001b[39m(Manager\u001b[38;5;241m.\u001b[39mdb\u001b[38;5;241m.\u001b[39mget_uid_list()))\n\u001b[1;32m     43\u001b[0m \u001b[38;5;28;01mif\u001b[39;00m \u001b[38;5;28mlen\u001b[39m(diff_uids) \u001b[38;5;241m==\u001b[39m \u001b[38;5;241m0\u001b[39m:\n\u001b[0;32m---> 44\u001b[0m     \u001b[43mtime\u001b[49m\u001b[38;5;241;43m.\u001b[39;49m\u001b[43msleep\u001b[49m\u001b[43m(\u001b[49m\u001b[38;5;241;43m1\u001b[39;49m\u001b[43m)\u001b[49m\n\u001b[1;32m     45\u001b[0m     \u001b[38;5;28;01mreturn\u001b[39;00m\n\u001b[1;32m     46\u001b[0m \u001b[38;5;28mprint\u001b[39m(\u001b[38;5;124m\"\u001b[39m\u001b[38;5;124mdiff_uids:\u001b[39m\u001b[38;5;124m\"\u001b[39m,diff_uids)\n",
      "\u001b[0;31mKeyboardInterrupt\u001b[0m: "
     ]
    }
   ],
   "source": [
    "import time\n",
    "while True:\n",
    "    try:\n",
    "        manager.sync_db_email()\n",
    "    except InterruptedError:\n",
    "        break"
   ]
  },
  {
   "cell_type": "code",
   "execution_count": null,
   "metadata": {},
   "outputs": [
    {
     "data": {
      "text/plain": [
       "set()"
      ]
     },
     "execution_count": 8,
     "metadata": {},
     "output_type": "execute_result"
    }
   ],
   "source": [
    "set(uid_db) - set(uid_email)\n"
   ]
  },
  {
   "cell_type": "code",
   "execution_count": null,
   "metadata": {},
   "outputs": [],
   "source": []
  }
 ],
 "metadata": {
  "kernelspec": {
   "display_name": "Python 3",
   "language": "python",
   "name": "python3"
  },
  "language_info": {
   "codemirror_mode": {
    "name": "ipython",
    "version": 3
   },
   "file_extension": ".py",
   "mimetype": "text/x-python",
   "name": "python",
   "nbconvert_exporter": "python",
   "pygments_lexer": "ipython3",
   "version": "3.12.7"
  }
 },
 "nbformat": 4,
 "nbformat_minor": 2
}
